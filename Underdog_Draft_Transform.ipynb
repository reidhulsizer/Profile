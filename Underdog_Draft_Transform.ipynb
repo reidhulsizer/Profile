{
  "nbformat": 4,
  "nbformat_minor": 0,
  "metadata": {
    "colab": {
      "provenance": [],
      "authorship_tag": "ABX9TyO1FptfCWosraXA+ylYaKH6",
      "include_colab_link": true
    },
    "kernelspec": {
      "name": "python3",
      "display_name": "Python 3"
    },
    "language_info": {
      "name": "python"
    }
  },
  "cells": [
    {
      "cell_type": "markdown",
      "metadata": {
        "id": "view-in-github",
        "colab_type": "text"
      },
      "source": [
        "<a href=\"https://colab.research.google.com/github/reidhulsizer/Profile/blob/master/Underdog_Draft_Transform.ipynb\" target=\"_parent\"><img src=\"https://colab.research.google.com/assets/colab-badge.svg\" alt=\"Open In Colab\"/></a>"
      ]
    },
    {
      "cell_type": "code",
      "execution_count": null,
      "metadata": {
        "id": "qEsYnBxebE1h"
      },
      "outputs": [],
      "source": [
        "import os\n",
        "import pandas as pd"
      ]
    },
    {
      "cell_type": "code",
      "source": [
        "os.chdir('XXXX')"
      ],
      "metadata": {
        "id": "IjEDgoYDbhUE"
      },
      "execution_count": null,
      "outputs": []
    },
    {
      "cell_type": "code",
      "source": [
        "df = pd.read_csv('ud2023.csv')"
      ],
      "metadata": {
        "id": "nDT_8fvfbow2"
      },
      "execution_count": null,
      "outputs": []
    },
    {
      "cell_type": "code",
      "source": [
        "drafts = pd.DataFrame(pd.unique(df['Draft']))\n",
        "drafts.columns = ['Draft']\n",
        "drafts['DID'] = drafts.index\n",
        "df = pd.merge(df, drafts, on = 'Draft')\n",
        "\n",
        "# Create the data for the first column (numbers from 1 to 216)\n",
        "column_x = list(range(1, 217))\n",
        "\n",
        "# Create the data for the second column (repeating pattern of 1 to 18)\n",
        "column_y = [i for i in range(1, 19) for _ in range(12)]\n",
        "\n",
        "# Create a dictionary with the data\n",
        "data = {'x': column_x, 'y': column_y}\n",
        "\n",
        "# Create a DataFrame from the dictionary\n",
        "\n",
        "rounds = pd.DataFrame(data)\n",
        "rounds.columns = ['Pick Number', 'Round']\n",
        "df = pd.merge(df, rounds, on = 'Pick Number')\n",
        "df['Player'] = df['First Name'] + df['Last Name'] +   df['Position']\n",
        "drafts = df.pivot(index='DID', columns='Round', values= 'Player')"
      ],
      "metadata": {
        "id": "SocwPeE-btOr"
      },
      "execution_count": null,
      "outputs": []
    },
    {
      "cell_type": "code",
      "source": [
        "drafts.to_csv('drafts.csv')"
      ],
      "metadata": {
        "id": "iOLGv8rncPRz"
      },
      "execution_count": null,
      "outputs": []
    }
  ]
}